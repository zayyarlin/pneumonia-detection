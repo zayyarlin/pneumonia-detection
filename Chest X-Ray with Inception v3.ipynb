{
 "cells": [
  {
   "cell_type": "markdown",
   "metadata": {},
   "source": [
    "# Chest X-Ray Image Classification"
   ]
  },
  {
   "cell_type": "markdown",
   "metadata": {},
   "source": [
    "Dataset: https://www.kaggle.com/paultimothymooney/chest-xray-pneumonia"
   ]
  },
  {
   "cell_type": "markdown",
   "metadata": {},
   "source": [
    "## Learning Objectives\n",
    "\n",
    "* Convolution Neural Networks\n",
    "* Using Tensorflow on GPU\n",
    "* Using various Keras models, pipelines and pre-processing\n",
    "* Transfer Learning (How to import models, how to freeze weights)"
   ]
  },
  {
   "cell_type": "markdown",
   "metadata": {},
   "source": [
    "## Import Libraries"
   ]
  },
  {
   "cell_type": "code",
   "execution_count": 1,
   "metadata": {},
   "outputs": [],
   "source": [
    "import numpy as np\n",
    "import matplotlib.pyplot as plt\n",
    "import pandas as pd\n",
    "import tensorflow as tf"
   ]
  },
  {
   "cell_type": "code",
   "execution_count": 2,
   "metadata": {},
   "outputs": [
    {
     "data": {
      "text/plain": [
       "True"
      ]
     },
     "execution_count": 2,
     "metadata": {},
     "output_type": "execute_result"
    }
   ],
   "source": [
    "# Check if Tensorflow is using GPU\n",
    "tf.test.is_gpu_available(\n",
    "    cuda_only=False,\n",
    "    min_cuda_compute_capability=None\n",
    ")"
   ]
  },
  {
   "cell_type": "markdown",
   "metadata": {},
   "source": [
    "## Data Pre-Processing"
   ]
  },
  {
   "cell_type": "code",
   "execution_count": 44,
   "metadata": {},
   "outputs": [
    {
     "name": "stdout",
     "output_type": "stream",
     "text": [
      "Found 16 images belonging to 2 classes.\n",
      "Found 5216 images belonging to 2 classes.\n"
     ]
    }
   ],
   "source": [
    "train_datagen = tf.keras.preprocessing.image.ImageDataGenerator(\n",
    "        rescale=1./255,\n",
    "        shear_range=0.2,\n",
    "        zoom_range=0.2,\n",
    "        horizontal_flip=False)\n",
    "\n",
    "test_datagen = tf.keras.preprocessing.image.ImageDataGenerator(rescale=1./255)\n",
    "\n",
    "validation_generator = test_datagen.flow_from_directory(\n",
    "        'chest-xray-pneumonia/chest_xray/chest_xray/val/',\n",
    "        target_size=(75, 75),\n",
    "        batch_size=32,\n",
    "        class_mode='binary')\n",
    "\n",
    "train_generator = train_datagen.flow_from_directory(\n",
    "        'chest-xray-pneumonia/chest_xray/chest_xray/train/',\n",
    "        target_size=(75, 75),\n",
    "        batch_size=32,\n",
    "        class_mode='binary')"
   ]
  },
  {
   "cell_type": "code",
   "execution_count": 45,
   "metadata": {},
   "outputs": [
    {
     "name": "stdout",
     "output_type": "stream",
     "text": [
      "Normal\n"
     ]
    },
    {
     "data": {
      "image/png": "[encoded data removed]",
      "text/plain": [
       "<Figure size 432x288 with 1 Axes>"
      ]
     },
     "metadata": {
      "needs_background": "light"
     },
     "output_type": "display_data"
    },
    {
     "name": "stdout",
     "output_type": "stream",
     "text": [
      "Pneuomnia\n"
     ]
    },
    {
     "data": {
      "image/png": "[encoded data removed]",
      "text/plain": [
       "<Figure size 432x288 with 1 Axes>"
      ]
     },
     "metadata": {
      "needs_background": "light"
     },
     "output_type": "display_data"
    }
   ],
   "source": [
    "x,y = validation_generator.next()\n",
    "for i in range(0,2):\n",
    "    image = x[i]\n",
    "    if y[i] == 0:\n",
    "        print('Normal')\n",
    "    else:\n",
    "        print('Pneuomnia')\n",
    "    plt.imshow(image)\n",
    "    plt.show()"
   ]
  },
  {
   "cell_type": "markdown",
   "metadata": {},
   "source": [
    "## Convolutional Neural Network"
   ]
  },
  {
   "cell_type": "code",
   "execution_count": 46,
   "metadata": {},
   "outputs": [],
   "source": [
    "model = tf.keras.models.Sequential([\n",
    "  tf.keras.layers.Conv2D(32, (3,3), input_shape=(75,75,3), activation=tf.nn.relu, padding='same'),\n",
    "  tf.keras.layers.MaxPooling2D((2,2)),\n",
    "  tf.keras.layers.Conv2D(64, (3,3), activation=tf.nn.relu, padding='same'),\n",
    "  tf.keras.layers.MaxPooling2D((2,2)),\n",
    "  tf.keras.layers.Conv2D(64, (3,3), activation=tf.nn.relu, padding='same'),\n",
    "  tf.keras.layers.MaxPooling2D((2,2)),\n",
    "  tf.keras.layers.Conv2D(64, (3,3), activation=tf.nn.relu, padding='same'),\n",
    "  tf.keras.layers.MaxPooling2D((2,2)),\n",
    "  tf.keras.layers.Flatten(),\n",
    "  tf.keras.layers.Dense(1024, activation=tf.nn.relu),\n",
    "  tf.keras.layers.Dropout(0.2),\n",
    "  tf.keras.layers.Dense(1, activation=tf.nn.sigmoid)\n",
    "])\n",
    "model.compile(optimizer='adam',\n",
    "              loss='binary_crossentropy',\n",
    "              metrics=['accuracy'])"
   ]
  },
  {
   "cell_type": "code",
   "execution_count": 47,
   "metadata": {},
   "outputs": [
    {
     "name": "stdout",
     "output_type": "stream",
     "text": [
      "Epoch 1/10\n",
      "160/160 [==============================] - 17s 106ms/step - loss: 0.4108 - acc: 0.8189 - val_loss: 0.9265 - val_acc: 0.6250\n",
      "Epoch 2/10\n",
      "160/160 [==============================] - 15s 92ms/step - loss: 0.2076 - acc: 0.9168 - val_loss: 0.5315 - val_acc: 0.6875\n",
      "Epoch 3/10\n",
      "160/160 [==============================] - 16s 103ms/step - loss: 0.1603 - acc: 0.9371 - val_loss: 0.4100 - val_acc: 0.6875\n",
      "Epoch 4/10\n",
      "160/160 [==============================] - 16s 97ms/step - loss: 0.1504 - acc: 0.9398 - val_loss: 0.4083 - val_acc: 0.7500\n",
      "Epoch 5/10\n",
      "160/160 [==============================] - 15s 96ms/step - loss: 0.1453 - acc: 0.9412 - val_loss: 0.1898 - val_acc: 1.0000\n",
      "Epoch 6/10\n",
      "160/160 [==============================] - 15s 95ms/step - loss: 0.1362 - acc: 0.9479 - val_loss: 0.2674 - val_acc: 0.8750\n",
      "Epoch 7/10\n",
      "160/160 [==============================] - 15s 96ms/step - loss: 0.1335 - acc: 0.9506 - val_loss: 0.5956 - val_acc: 0.6250\n",
      "Epoch 8/10\n",
      "160/160 [==============================] - 16s 99ms/step - loss: 0.1144 - acc: 0.9566 - val_loss: 0.2076 - val_acc: 0.9375\n",
      "Epoch 9/10\n",
      "160/160 [==============================] - 16s 100ms/step - loss: 0.1134 - acc: 0.9582 - val_loss: 0.5761 - val_acc: 0.6875\n",
      "Epoch 10/10\n",
      "160/160 [==============================] - 16s 99ms/step - loss: 0.1013 - acc: 0.9633 - val_loss: 0.2211 - val_acc: 0.9375\n"
     ]
    },
    {
     "data": {
      "text/plain": [
       "<tensorflow.python.keras.callbacks.History at 0x1816d535d68>"
      ]
     },
     "execution_count": 47,
     "metadata": {},
     "output_type": "execute_result"
    }
   ],
   "source": [
    "model.fit_generator(\n",
    "        train_generator,\n",
    "        steps_per_epoch=160,\n",
    "        epochs=10,\n",
    "        workers=8,\n",
    "        validation_data=validation_generator,\n",
    "        validation_steps=1)"
   ]
  },
  {
   "cell_type": "code",
   "execution_count": 48,
   "metadata": {},
   "outputs": [
    {
     "name": "stdout",
     "output_type": "stream",
     "text": [
      "Found 624 images belonging to 2 classes.\n"
     ]
    }
   ],
   "source": [
    "test_generator = test_datagen.flow_from_directory(\n",
    "        'chest-xray-pneumonia/chest_xray/chest_xray/test/',\n",
    "        target_size=(75, 75),\n",
    "        batch_size=32,\n",
    "        class_mode='binary')"
   ]
  },
  {
   "cell_type": "code",
   "execution_count": 79,
   "metadata": {},
   "outputs": [],
   "source": [
    "y_true = test_generator.classes"
   ]
  },
  {
   "cell_type": "code",
   "execution_count": 80,
   "metadata": {},
   "outputs": [
    {
     "data": {
      "text/plain": [
       "(624,)"
      ]
     },
     "execution_count": 80,
     "metadata": {},
     "output_type": "execute_result"
    }
   ],
   "source": [
    "y_true.shape"
   ]
  },
  {
   "cell_type": "code",
   "execution_count": 81,
   "metadata": {},
   "outputs": [],
   "source": [
    "y_pred = model.predict(test_generator)"
   ]
  },
  {
   "cell_type": "code",
   "execution_count": 82,
   "metadata": {},
   "outputs": [
    {
     "data": {
      "text/plain": [
       "array([9.79990602e-01, 9.99815464e-01, 6.22264266e-01, 2.42335200e-02,\n",
       "       2.92680264e-02, 3.35644662e-01, 9.99991298e-01, 9.98424292e-01,\n",
       "       9.99522805e-01, 7.75557280e-01, 9.97240901e-01, 9.99614120e-01,\n",
       "       9.57816362e-01, 9.99999464e-01, 2.04838216e-02, 1.35804743e-01,\n",
       "       9.99983072e-01, 9.99804854e-01, 1.45459175e-02, 9.99999762e-01,\n",
       "       8.80278647e-01, 9.99571800e-01, 1.55165792e-03, 9.94730353e-01,\n",
       "       9.99135852e-01, 9.97736990e-01, 9.99825835e-01, 9.99802232e-01,\n",
       "       2.45542705e-01, 1.51580572e-02, 1.14192784e-01, 9.99912620e-01,\n",
       "       9.96096849e-01, 1.21270418e-02, 9.26065564e-01, 9.99954700e-01,\n",
       "       9.99930978e-01, 9.99953449e-01, 4.01476920e-02, 4.37382460e-02,\n",
       "       9.99997020e-01, 6.48028553e-01, 9.98596668e-01, 9.99690294e-01,\n",
       "       7.76694417e-02, 2.39616930e-02, 9.99634802e-01, 9.99974132e-01,\n",
       "       9.99554098e-01, 5.05778193e-03, 3.01072001e-03, 9.68755543e-01,\n",
       "       2.87019193e-01, 9.99119401e-01, 8.24101567e-02, 4.73380089e-03,\n",
       "       1.95844471e-02, 9.99984324e-01, 9.98182535e-01, 2.45532095e-02,\n",
       "       8.66889954e-01, 5.75847626e-02, 6.65698051e-02, 1.25876367e-02,\n",
       "       9.20564115e-01, 9.98563766e-01, 9.75932360e-01, 9.98554945e-01,\n",
       "       9.66887593e-01, 9.99999404e-01, 1.44378245e-02, 4.67166901e-02,\n",
       "       9.99776721e-01, 1.31066144e-02, 9.19580817e-01, 8.19066167e-03,\n",
       "       9.99976993e-01, 9.98657525e-01, 9.98033524e-01, 9.37328696e-01,\n",
       "       9.99230266e-01, 9.23226595e-01, 7.77050853e-03, 4.36189473e-02,\n",
       "       9.95298147e-01, 1.57313943e-02, 1.50691271e-02, 9.40904498e-01,\n",
       "       9.83478308e-01, 9.99975920e-01, 6.89131796e-01, 9.99411345e-01,\n",
       "       2.87019193e-01, 9.97998655e-01, 2.96327770e-01, 9.99254823e-01,\n",
       "       9.99290824e-01, 9.99994278e-01, 9.55827177e-01, 1.77431107e-03,\n",
       "       7.30984092e-01, 9.99821901e-01, 7.27950335e-02, 9.95984614e-01,\n",
       "       9.34186339e-01, 9.99043167e-01, 8.30188096e-02, 5.05512953e-03,\n",
       "       9.99587059e-01, 9.99659002e-01, 3.79922986e-03, 1.57474071e-01,\n",
       "       6.56391084e-02, 9.99998808e-01, 9.99889970e-01, 8.24012041e-01,\n",
       "       9.71039295e-01, 9.62762773e-01, 9.99755204e-01, 2.23179013e-01,\n",
       "       7.73695827e-01, 5.38221002e-03, 1.58882141e-03, 9.99462008e-01,\n",
       "       3.03202868e-02, 7.49036670e-03, 9.99988556e-01, 9.99986410e-01,\n",
       "       8.01139414e-01, 9.62224007e-01, 9.90444779e-01, 3.38557065e-02,\n",
       "       2.66470432e-01, 9.99052525e-01, 5.69168031e-02, 3.06945473e-01,\n",
       "       2.36030519e-02, 9.91016507e-01, 9.99731302e-01, 9.96818841e-01,\n",
       "       3.74286562e-01, 7.70133972e-01, 9.99191761e-01, 9.99947011e-01,\n",
       "       2.85334587e-01, 9.35982347e-01, 9.98947561e-01, 8.70536923e-01,\n",
       "       2.34345257e-01, 9.99575913e-01, 9.96657252e-01, 9.99903083e-01,\n",
       "       1.09726012e-01, 6.61253929e-04, 5.50682247e-02, 4.40788269e-03,\n",
       "       1.49470568e-03, 9.99966145e-01, 9.65677619e-01, 9.99941647e-01,\n",
       "       9.99999881e-01, 9.99608874e-01, 9.97358084e-01, 9.99563932e-01,\n",
       "       8.31559420e-01, 9.99864638e-01, 5.80367208e-01, 1.75304413e-02,\n",
       "       9.98364449e-01, 9.98214841e-01, 3.69144648e-01, 5.91862202e-03,\n",
       "       9.98287380e-01, 5.82605600e-04, 9.99999642e-01, 7.43073106e-01,\n",
       "       9.02373493e-02, 9.99641716e-01, 9.05815125e-01, 8.53177905e-03,\n",
       "       9.56737220e-01, 1.42251253e-02, 9.99755263e-01, 3.92723650e-01,\n",
       "       9.67653513e-01, 9.99711871e-01, 4.02904689e-01, 9.99786735e-01,\n",
       "       9.99382079e-01, 2.16011733e-01, 8.27372074e-04, 9.24938023e-02,\n",
       "       9.66647089e-01, 9.01962161e-01, 9.76302743e-01, 9.91209030e-01,\n",
       "       9.99646544e-01, 9.99884725e-01, 9.96926427e-01, 9.99785662e-01,\n",
       "       2.63991952e-03, 9.85339046e-01, 9.95813429e-01, 7.67632365e-01,\n",
       "       9.99937892e-01, 1.75828040e-02, 5.80818415e-01, 9.98712420e-01,\n",
       "       1.28317773e-02, 8.53809834e-01, 3.39945853e-02, 9.99896288e-01,\n",
       "       9.95224655e-01, 9.99992013e-01, 9.95757937e-01, 9.98108506e-01,\n",
       "       9.99987602e-01, 9.99914765e-01, 9.82995391e-01, 8.23237360e-01,\n",
       "       9.99254346e-01, 9.99426246e-01, 2.00460404e-01, 1.17081195e-01,\n",
       "       9.99981642e-01, 9.89304721e-01, 7.01835454e-02, 1.24096394e-01,\n",
       "       9.91348147e-01, 9.98905420e-01, 5.25598109e-01, 7.76338577e-03,\n",
       "       2.29904652e-02, 9.99997377e-01, 1.31080151e-02, 1.13034248e-03,\n",
       "       9.99983788e-01, 9.93201256e-01, 9.86021399e-01, 9.99934971e-01,\n",
       "       9.99893427e-01, 1.83561444e-03, 8.34186971e-02, 9.99998927e-01,\n",
       "       9.94428456e-01, 9.97548819e-01, 9.75505352e-01, 9.99808788e-01,\n",
       "       9.98950005e-01, 6.15336418e-01, 9.98081088e-01, 5.97692311e-01,\n",
       "       9.87019837e-01, 2.30574608e-03, 3.32248807e-02, 4.13369238e-02,\n",
       "       9.83478308e-01, 7.26765573e-01, 9.99975920e-01, 9.99980688e-01,\n",
       "       9.91906166e-01, 9.97482061e-01, 8.98842216e-01, 6.52260363e-01,\n",
       "       8.41023564e-01, 9.75427389e-01, 9.99922752e-01, 9.92479801e-01,\n",
       "       1.68962479e-02, 9.50172484e-01, 1.96808577e-03, 9.99990225e-01,\n",
       "       9.99027371e-01, 7.72925019e-02, 8.81002069e-01, 9.98727202e-01,\n",
       "       9.99982476e-01, 4.73117203e-01, 7.39938736e-01, 1.85644627e-03,\n",
       "       9.99976993e-01, 9.99798954e-01, 1.14724636e-02, 9.34015274e-01,\n",
       "       9.11471367e-01, 1.30046427e-01, 9.99907374e-01, 3.46760094e-01,\n",
       "       7.09918141e-03, 9.99842644e-01, 9.84477758e-01, 1.59181207e-01,\n",
       "       2.44711459e-01, 9.99610901e-01, 9.99933004e-01, 6.68134451e-01,\n",
       "       9.40168500e-01, 5.42402267e-01, 4.63140309e-02, 2.27725506e-01,\n",
       "       9.90556300e-01, 9.99944448e-01, 9.99995112e-01, 9.99927104e-01,\n",
       "       6.64335787e-02, 7.75799155e-03, 9.98584449e-01, 9.99913633e-01,\n",
       "       3.51896524e-01, 4.26351428e-02, 9.97028351e-01, 9.45739746e-01,\n",
       "       1.54853702e-01, 9.99336481e-01, 9.99152780e-01, 9.99400854e-01,\n",
       "       1.23420954e-02, 9.94693160e-01, 9.99900579e-01, 7.66479194e-01,\n",
       "       9.99999166e-01, 9.94760036e-01, 9.88259554e-01, 8.10546875e-02,\n",
       "       2.16011733e-01, 2.57953703e-01, 3.56780440e-01, 9.99213934e-01,\n",
       "       9.98283088e-01, 8.18573713e-01, 2.05775648e-01, 5.30987978e-03,\n",
       "       9.96989846e-01, 9.99966979e-01, 9.99063373e-01, 9.99985158e-01,\n",
       "       1.59392655e-02, 9.99999642e-01, 9.99772429e-01, 9.95029569e-01,\n",
       "       6.45471096e-01, 9.96611953e-01, 9.99981284e-01, 6.09129131e-01,\n",
       "       3.36600721e-01, 9.99114513e-01, 6.94597065e-02, 3.25727165e-01,\n",
       "       9.78952467e-01, 5.09086251e-02, 9.98745024e-01, 9.99642491e-01,\n",
       "       5.81461728e-01, 2.48010755e-01, 1.92496181e-03, 9.75149810e-01,\n",
       "       9.99969363e-01, 7.78399408e-01, 9.85700965e-01, 1.75648928e-03,\n",
       "       9.99940038e-01, 9.88628030e-01, 9.99863982e-01, 1.40186250e-02,\n",
       "       3.94603044e-01, 9.99631643e-01, 9.99266624e-01, 5.24012089e-01,\n",
       "       1.49050951e-02, 1.80475712e-02, 9.90144432e-01, 1.96420252e-02,\n",
       "       9.98830378e-01, 9.77739930e-01, 2.63449788e-01, 9.99757171e-01,\n",
       "       8.54276717e-02, 9.99834299e-01, 5.75538874e-02, 9.99960661e-01,\n",
       "       6.21259212e-04, 1.34770274e-02, 8.47849011e-01, 9.71792281e-01,\n",
       "       1.07755154e-01, 9.99276638e-01, 9.99987960e-01, 9.99985754e-01,\n",
       "       2.98056602e-02, 8.96415949e-01, 9.99432385e-01, 1.86512768e-02,\n",
       "       9.99382913e-01, 9.85823154e-01, 9.96919513e-01, 9.98868227e-01,\n",
       "       9.92885947e-01, 9.63466525e-01, 7.23114610e-03, 9.61035192e-01,\n",
       "       9.53483999e-01, 9.99697626e-01, 6.71257615e-01, 9.99956846e-01,\n",
       "       3.28437150e-01, 9.97907281e-01, 9.99876678e-01, 9.99977887e-01,\n",
       "       9.99879956e-01, 4.15891171e-01, 9.99966741e-01, 9.99936938e-01,\n",
       "       9.99924898e-01, 9.83690619e-01, 9.99923348e-01, 3.54188383e-02,\n",
       "       9.38034832e-01, 9.95200872e-01, 9.99943793e-01, 9.74033475e-01,\n",
       "       9.99219775e-01, 9.99271393e-01, 9.01142001e-01, 9.98335898e-01,\n",
       "       9.99707818e-01, 9.99278069e-01, 5.79698861e-01, 6.00146651e-02,\n",
       "       9.98025894e-01, 9.99997079e-01, 9.91775870e-01, 9.87059712e-01,\n",
       "       2.78991461e-02, 9.99994099e-01, 9.43222821e-01, 8.90617847e-01,\n",
       "       9.22722518e-01, 9.68600631e-01, 1.96822882e-02, 9.93638873e-01,\n",
       "       9.91704583e-01, 9.92443204e-01, 9.96107697e-01, 2.11831331e-01,\n",
       "       9.76193666e-01, 9.99054909e-01, 1.14011258e-01, 9.99856591e-01,\n",
       "       2.05705613e-01, 9.99110341e-01, 9.97359931e-01, 9.12437260e-01,\n",
       "       3.73407900e-02, 9.99989390e-01, 9.99614120e-01, 2.12896198e-01,\n",
       "       9.99599338e-01, 9.99943614e-01, 9.90804076e-01, 9.57672238e-01,\n",
       "       6.68466568e-01, 9.99996364e-01, 9.99955356e-01, 9.99995470e-01,\n",
       "       2.68480182e-03, 1.38789415e-04, 9.99820411e-01, 5.84193230e-01,\n",
       "       2.64448524e-02, 9.45121050e-03, 9.99773026e-01, 9.99869645e-01,\n",
       "       9.99072671e-01, 9.80494142e-01, 9.32135940e-01, 9.99390841e-01,\n",
       "       4.71528471e-02, 6.95735514e-02, 2.16108561e-02, 1.62287176e-01,\n",
       "       9.99811828e-01, 9.29617882e-01, 3.07868719e-02, 9.75426793e-01,\n",
       "       9.99438405e-01, 9.99907970e-01, 9.30411100e-01, 9.84212041e-01,\n",
       "       9.99998569e-01, 9.99290228e-01, 9.78818655e-01, 9.88023162e-01,\n",
       "       3.58281136e-01, 9.89180744e-01, 1.05295777e-02, 9.44896400e-01,\n",
       "       9.99912381e-01, 3.87331307e-01, 1.99512243e-01, 8.53304505e-01,\n",
       "       9.99828517e-01, 9.99996722e-01, 9.96621132e-01, 9.45819259e-01,\n",
       "       1.18374825e-04, 5.74010611e-03, 1.08355284e-03, 1.58748925e-01,\n",
       "       9.91297483e-01, 9.54342723e-01, 8.44748318e-02, 9.99951303e-01,\n",
       "       9.44306493e-01, 9.99841273e-01, 9.99958396e-01, 3.61239016e-02,\n",
       "       6.76057339e-02, 9.99335051e-01, 9.99934793e-01, 9.99979615e-01,\n",
       "       9.95585799e-01, 9.81464326e-01, 1.59407079e-01, 8.25279951e-03,\n",
       "       9.99721646e-01, 7.70071924e-01, 2.94986367e-03, 1.94866955e-02,\n",
       "       1.73795223e-03, 9.96521711e-01, 8.13088298e-01, 9.99145746e-01,\n",
       "       9.99479532e-01, 9.88021016e-01, 9.99949813e-01, 9.99608815e-01,\n",
       "       2.45645642e-03, 9.87264812e-01, 8.07380676e-03, 6.27717674e-02,\n",
       "       8.56371403e-01, 8.97678137e-01, 6.92137003e-01, 4.82504278e-01,\n",
       "       2.88476944e-02, 2.82888770e-01, 9.79395151e-01, 3.66575122e-02,\n",
       "       3.35774571e-01, 2.94233203e-01, 9.99859095e-01, 1.21791452e-01,\n",
       "       5.07337570e-01, 9.19977546e-01, 4.49688137e-02, 9.93980646e-01,\n",
       "       8.14150274e-02, 9.99999404e-01, 7.14183509e-01, 9.97684002e-01,\n",
       "       9.99473929e-01, 5.82373619e-01, 5.41172028e-02, 9.99998569e-01,\n",
       "       9.90779936e-01, 9.99673486e-01, 9.99290228e-01, 3.34176421e-03,\n",
       "       1.11862719e-02, 1.71267986e-03, 9.99693394e-01, 9.98728275e-01,\n",
       "       2.66677141e-02, 9.99297023e-01, 9.90632057e-01, 9.98116255e-01,\n",
       "       9.99987245e-01, 9.80736256e-01, 9.99683499e-01, 9.99605894e-01,\n",
       "       9.99989688e-01, 9.99999523e-01, 1.24974549e-02, 9.91842270e-01,\n",
       "       9.99983907e-01, 8.32111955e-01, 5.17013669e-03, 9.99679565e-01,\n",
       "       9.87303019e-01, 9.99856174e-01, 9.99947011e-01, 5.88207841e-02,\n",
       "       3.95296514e-01, 1.96633548e-01, 9.99880254e-01, 6.97765052e-02,\n",
       "       6.67896986e-01, 9.99998271e-01, 9.97860730e-01, 2.32345164e-02,\n",
       "       9.99950886e-01, 9.31662083e-01, 1.96047425e-01, 9.88609195e-01,\n",
       "       9.76721764e-01, 9.91189837e-01, 2.76029766e-01, 9.20122623e-01,\n",
       "       9.99289870e-01, 1.96633458e-01, 9.60305512e-01, 9.99924600e-01,\n",
       "       4.89605963e-02, 8.84874940e-01, 9.72288549e-02, 9.96526957e-01,\n",
       "       1.96746290e-02, 9.60778892e-02, 9.96030092e-01, 9.99994814e-01,\n",
       "       1.63017839e-01, 9.99751449e-01, 2.93710828e-03, 8.86576176e-01],\n",
       "      dtype=float32)"
      ]
     },
     "execution_count": 82,
     "metadata": {},
     "output_type": "execute_result"
    }
   ],
   "source": [
    "y_pred.reshape((624,))"
   ]
  },
  {
   "cell_type": "code",
   "execution_count": 83,
   "metadata": {},
   "outputs": [],
   "source": [
    "y_pred = np.where(y_pred>0.5, 1, 0)"
   ]
  },
  {
   "cell_type": "code",
   "execution_count": 99,
   "metadata": {},
   "outputs": [
    {
     "data": {
      "text/plain": [
       "0.6714743589743589"
      ]
     },
     "execution_count": 99,
     "metadata": {},
     "output_type": "execute_result"
    }
   ],
   "source": [
    "y_pred.mean()"
   ]
  },
  {
   "cell_type": "markdown",
   "metadata": {},
   "source": [
    "We achieve an accuracy of around 67% using simple conv net"
   ]
  },
  {
   "cell_type": "code",
   "execution_count": 84,
   "metadata": {},
   "outputs": [],
   "source": [
    "from sklearn.metrics import confusion_matrix\n",
    "from sklearn.metrics import f1_score"
   ]
  },
  {
   "cell_type": "code",
   "execution_count": 85,
   "metadata": {},
   "outputs": [],
   "source": [
    "conf_matrix = confusion_matrix(y_true, y_pred)"
   ]
  },
  {
   "cell_type": "code",
   "execution_count": 87,
   "metadata": {},
   "outputs": [],
   "source": [
    "f1 = f1_score(y_true, y_pred)"
   ]
  },
  {
   "cell_type": "code",
   "execution_count": 88,
   "metadata": {},
   "outputs": [
    {
     "data": {
      "text/plain": [
       "0.6600741656365884"
      ]
     },
     "execution_count": 88,
     "metadata": {},
     "output_type": "execute_result"
    }
   ],
   "source": [
    "f1"
   ]
  },
  {
   "cell_type": "markdown",
   "metadata": {},
   "source": [
    "## We will now use transfer learning based on Inceptionv3 network"
   ]
  },
  {
   "cell_type": "markdown",
   "metadata": {},
   "source": [
    "Incepion v3 Requires at least 75x75 images"
   ]
  },
  {
   "cell_type": "code",
   "execution_count": 20,
   "metadata": {},
   "outputs": [
    {
     "name": "stdout",
     "output_type": "stream",
     "text": [
      "Found 16 images belonging to 2 classes.\n",
      "Found 5216 images belonging to 2 classes.\n"
     ]
    }
   ],
   "source": [
    "train_datagen = tf.keras.preprocessing.image.ImageDataGenerator(\n",
    "        rescale=1./255,\n",
    "        shear_range=0.2,\n",
    "        zoom_range=0.2,\n",
    "        horizontal_flip=False)\n",
    "\n",
    "test_datagen = tf.keras.preprocessing.image.ImageDataGenerator(rescale=1./255)\n",
    "\n",
    "validation_generator = test_datagen.flow_from_directory(\n",
    "        'chest-xray-pneumonia/chest_xray/chest_xray/val/',\n",
    "        target_size=(75, 75),\n",
    "        batch_size=32,\n",
    "        class_mode='binary')\n",
    "\n",
    "train_generator = train_datagen.flow_from_directory(\n",
    "        'chest-xray-pneumonia/chest_xray/chest_xray/train/',\n",
    "        target_size=(75, 75),\n",
    "        batch_size=32,\n",
    "        class_mode='binary')"
   ]
  },
  {
   "cell_type": "code",
   "execution_count": 21,
   "metadata": {},
   "outputs": [
    {
     "name": "stdout",
     "output_type": "stream",
     "text": [
      "Downloading data from https://github.com/fchollet/deep-learning-models/releases/download/v0.5/inception_v3_weights_tf_dim_ordering_tf_kernels_notop.h5\n",
      "87916544/87910968 [==============================] - 33s 0us/step\n"
     ]
    }
   ],
   "source": [
    "conv_base = tf.keras.applications.inception_v3.InceptionV3(include_top=False, weights='imagenet', input_tensor=None, input_shape=(75,75,3), pooling='max')"
   ]
  },
  {
   "cell_type": "code",
   "execution_count": 37,
   "metadata": {},
   "outputs": [],
   "source": [
    "# Freeze the convolution base\n",
    "conv_base.trainable = False"
   ]
  },
  {
   "cell_type": "code",
   "execution_count": 38,
   "metadata": {},
   "outputs": [],
   "source": [
    "transfer_model = tf.keras.models.Sequential([\n",
    "  conv_base,\n",
    "  tf.keras.layers.Flatten(),\n",
    "  tf.keras.layers.Dense(1024, activation=tf.nn.relu),\n",
    "  tf.keras.layers.Dense(512, activation=tf.nn.relu),\n",
    "  tf.keras.layers.Dropout(0.2),\n",
    "  tf.keras.layers.Dense(1, activation=tf.nn.sigmoid)\n",
    "])"
   ]
  },
  {
   "cell_type": "code",
   "execution_count": 39,
   "metadata": {},
   "outputs": [
    {
     "name": "stdout",
     "output_type": "stream",
     "text": [
      "Model: \"sequential_6\"\n",
      "_________________________________________________________________\n",
      "Layer (type)                 Output Shape              Param #   \n",
      "=================================================================\n",
      "inception_v3 (Model)         (None, 2048)              21802784  \n",
      "_________________________________________________________________\n",
      "flatten_6 (Flatten)          (None, 2048)              0         \n",
      "_________________________________________________________________\n",
      "dense_12 (Dense)             (None, 1024)              2098176   \n",
      "_________________________________________________________________\n",
      "dense_13 (Dense)             (None, 512)               524800    \n",
      "_________________________________________________________________\n",
      "dropout_6 (Dropout)          (None, 512)               0         \n",
      "_________________________________________________________________\n",
      "dense_14 (Dense)             (None, 1)                 513       \n",
      "=================================================================\n",
      "Total params: 24,426,273\n",
      "Trainable params: 2,623,489\n",
      "Non-trainable params: 21,802,784\n",
      "_________________________________________________________________\n"
     ]
    }
   ],
   "source": [
    "transfer_model.summary()"
   ]
  },
  {
   "cell_type": "markdown",
   "metadata": {},
   "source": [
    "We see that most params are non-trainable as we have frozen them"
   ]
  },
  {
   "cell_type": "code",
   "execution_count": 40,
   "metadata": {},
   "outputs": [],
   "source": [
    "transfer_model.compile(optimizer='sgd',\n",
    "              loss='binary_crossentropy',\n",
    "              metrics=['accuracy'])"
   ]
  },
  {
   "cell_type": "code",
   "execution_count": 41,
   "metadata": {},
   "outputs": [
    {
     "name": "stdout",
     "output_type": "stream",
     "text": [
      "Epoch 1/10\n",
      "160/160 [==============================] - 18s 113ms/step - loss: 0.5444 - acc: 0.7359 - val_loss: 1.2604 - val_acc: 0.5000\n",
      "Epoch 2/10\n",
      "160/160 [==============================] - 16s 98ms/step - loss: 0.4575 - acc: 0.7855 - val_loss: 1.3204 - val_acc: 0.5000\n",
      "Epoch 3/10\n",
      "160/160 [==============================] - 16s 98ms/step - loss: 0.4036 - acc: 0.8146 - val_loss: 0.9000 - val_acc: 0.6250\n",
      "Epoch 4/10\n",
      "160/160 [==============================] - 16s 101ms/step - loss: 0.3667 - acc: 0.8354 - val_loss: 1.0910 - val_acc: 0.6875\n",
      "Epoch 5/10\n",
      "160/160 [==============================] - 16s 101ms/step - loss: 0.3612 - acc: 0.8391 - val_loss: 0.6741 - val_acc: 0.7500\n",
      "Epoch 6/10\n",
      "160/160 [==============================] - 16s 103ms/step - loss: 0.3612 - acc: 0.8475 - val_loss: 0.5725 - val_acc: 0.7500\n",
      "Epoch 7/10\n",
      "160/160 [==============================] - 16s 103ms/step - loss: 0.3555 - acc: 0.8439 - val_loss: 0.5039 - val_acc: 0.7500\n",
      "Epoch 8/10\n",
      "160/160 [==============================] - 17s 104ms/step - loss: 0.3450 - acc: 0.8525 - val_loss: 0.7981 - val_acc: 0.6875\n",
      "Epoch 9/10\n",
      "160/160 [==============================] - 16s 102ms/step - loss: 0.3535 - acc: 0.8457 - val_loss: 0.6194 - val_acc: 0.7500\n",
      "Epoch 10/10\n",
      "160/160 [==============================] - 17s 105ms/step - loss: 0.3472 - acc: 0.8480 - val_loss: 0.7760 - val_acc: 0.6875\n"
     ]
    },
    {
     "data": {
      "text/plain": [
       "<tensorflow.python.keras.callbacks.History at 0x1816c01e2b0>"
      ]
     },
     "execution_count": 41,
     "metadata": {},
     "output_type": "execute_result"
    }
   ],
   "source": [
    "transfer_model.fit_generator(\n",
    "        train_generator,\n",
    "        steps_per_epoch=160,\n",
    "        epochs=10,\n",
    "        workers=8,\n",
    "        validation_data=validation_generator,\n",
    "        validation_steps=1)"
   ]
  },
  {
   "cell_type": "code",
   "execution_count": 42,
   "metadata": {},
   "outputs": [
    {
     "name": "stdout",
     "output_type": "stream",
     "text": [
      "Found 624 images belonging to 2 classes.\n"
     ]
    }
   ],
   "source": [
    "test_generator = test_datagen.flow_from_directory(\n",
    "        'chest-xray-pneumonia/chest_xray/chest_xray/test/',\n",
    "        target_size=(75, 75),\n",
    "        batch_size=32,\n",
    "        class_mode='binary')"
   ]
  },
  {
   "cell_type": "code",
   "execution_count": 43,
   "metadata": {},
   "outputs": [
    {
     "data": {
      "text/plain": [
       "[1.0820902466773987, 0.67628205]"
      ]
     },
     "execution_count": 43,
     "metadata": {},
     "output_type": "execute_result"
    }
   ],
   "source": [
    "transfer_model.evaluate_generator(test_generator)"
   ]
  },
  {
   "cell_type": "code",
   "execution_count": 90,
   "metadata": {},
   "outputs": [],
   "source": [
    "y_pred_transfer = transfer_model.predict(test_generator)"
   ]
  },
  {
   "cell_type": "code",
   "execution_count": 91,
   "metadata": {},
   "outputs": [],
   "source": [
    "y_pred_transfer = np.where(y_pred_transfer>0.5, 1, 0)"
   ]
  },
  {
   "cell_type": "code",
   "execution_count": 101,
   "metadata": {},
   "outputs": [
    {
     "data": {
      "text/plain": [
       "0.8942307692307693"
      ]
     },
     "execution_count": 101,
     "metadata": {},
     "output_type": "execute_result"
    }
   ],
   "source": [
    "y_pred_transfer.mean()"
   ]
  },
  {
   "cell_type": "markdown",
   "metadata": {},
   "source": [
    "We achieve a much higher accuracy of 89% using transfer learning"
   ]
  },
  {
   "cell_type": "code",
   "execution_count": 103,
   "metadata": {},
   "outputs": [],
   "source": [
    "conf_matrix_transfer = confusion_matrix(y_true, y_pred_transfer,labels=[0,1])"
   ]
  },
  {
   "cell_type": "code",
   "execution_count": 104,
   "metadata": {},
   "outputs": [
    {
     "data": {
      "text/plain": [
       "array([[ 25, 209],\n",
       "       [ 41, 349]], dtype=int64)"
      ]
     },
     "execution_count": 104,
     "metadata": {},
     "output_type": "execute_result"
    }
   ],
   "source": [
    "conf_matrix_transfer"
   ]
  },
  {
   "cell_type": "code",
   "execution_count": 105,
   "metadata": {},
   "outputs": [],
   "source": [
    "f1_transfer = f1_score(y_true, y_pred_transfer)"
   ]
  },
  {
   "cell_type": "code",
   "execution_count": 106,
   "metadata": {},
   "outputs": [
    {
     "data": {
      "text/plain": [
       "0.7362869198312236"
      ]
     },
     "execution_count": 106,
     "metadata": {},
     "output_type": "execute_result"
    }
   ],
   "source": [
    "f1_transfer"
   ]
  }
 ],
 "metadata": {
  "kernelspec": {
   "display_name": "Python 3",
   "language": "python",
   "name": "python3"
  },
  "language_info": {
   "codemirror_mode": {
    "name": "ipython",
    "version": 3
   },
   "file_extension": ".py",
   "mimetype": "text/x-python",
   "name": "python",
   "nbconvert_exporter": "python",
   "pygments_lexer": "ipython3",
   "version": "3.7.3"
  }
 },
 "nbformat": 4,
 "nbformat_minor": 2
}
